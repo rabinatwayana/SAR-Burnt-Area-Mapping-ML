{
 "cells": [
  {
   "cell_type": "code",
   "execution_count": 1,
   "metadata": {},
   "outputs": [
    {
     "name": "stdout",
     "output_type": "stream",
     "text": [
      "/Users/rabinatwayana/Rabina/CDE II/Wildfire Project/SAR-Burnt-Area-Mapping\n"
     ]
    }
   ],
   "source": [
    "import os\n",
    "from pathlib import Path\n",
    "dir_path = Path(r\"/Users/rabinatwayana/Rabina/CDE II/Wildfire Project/SAR-Burnt-Area-Mapping/\")\n",
    "if dir_path.exists():\n",
    "    os.chdir(dir_path)\n",
    "else:\n",
    "    print(\"Directory does not exist! Please check the path.\")\n",
    "!pwd"
   ]
  },
  {
   "cell_type": "code",
   "execution_count": null,
   "metadata": {},
   "outputs": [],
   "source": [
    "import warnings\n",
    "warnings.filterwarnings(\"ignore\", category=UserWarning)\n",
    "from utils import extract_feature"
   ]
  },
  {
   "cell_type": "markdown",
   "metadata": {},
   "source": [
    "### Load sample points and sar data\n"
   ]
  },
  {
   "cell_type": "code",
   "execution_count": null,
   "metadata": {},
   "outputs": [],
   "source": [
    "#  palisades\n",
    "input_asc_single_sar_image_path  = \"MachineLearning/input/sar/02_clip/S1A_asc_32611_single_clip.tif\"\n",
    "input_desc_single_sar_image_path  = \"MachineLearning/input/sar/02_clip/S1A_desc_32611_single_clip.tif\"\n",
    "single_glcm_raster_path=\"MachineLearning/input/glcm/04_pca/palisade_asc_desc_dGLCM_pca_single.tif\"\n",
    "\n",
    "input_asc_sar_image_path  = \"MachineLearning/input/sar/02_clip/S1A_asc_32611_avg_clip.tif\"\n",
    "input_desc_sar_image_path  = \"MachineLearning/input/sar/02_clip/S1A_desc_32611_avg_clip.tif\"\n",
    "glcm_raster_path = \"MachineLearning/input/glcm/04_pca/palisade_asc_desc_dGLCM_pca.tif\"\n",
    "\n",
    "prefix=\"palisades\"\n",
    "\n",
    "# prefix=\"eaton\"\n",
    "scheme_1 = False #asc only\n",
    "scheme_2 = False #desc only\n",
    "scheme_3 = False # asc+ desc\n",
    "scheme_4 =  True # asc+desc+glcm\n",
    "\n",
    "scheme_5 =False  \n",
    "scheme_6 =False\n",
    "scheme_7 =False\n",
    "scheme_8 =False\n",
    "\n"
   ]
  },
  {
   "cell_type": "code",
   "execution_count": null,
   "metadata": {},
   "outputs": [
    {
     "name": "stdout",
     "output_type": "stream",
     "text": [
      "feature image saved at: MachineLearning/output/feature_image/palisades_sar_single_asc_desc_glcm.tif\n"
     ]
    }
   ],
   "source": [
    "if scheme_1:\n",
    "    #1 Asc\n",
    "    extract_feature(\n",
    "        add_bands=False, \n",
    "        input_desc_sar_image_path=\"\", \n",
    "        input_image_path=input_asc_single_sar_image_path,\n",
    "        glcm_raster_path=\"\",  \n",
    "        thermal_image_path=\"\", \n",
    "        dnbr_image_path=\"\", \n",
    "        final_columns_names=[\"RBD_VV\", \"RBD_VH\", \"RBR_VV\", \"RBR_VH\",\"ΔRVI\"], \n",
    "        output_image_path=f\"MachineLearning/output/feature_image/{prefix}_sar_single_asc.tif\", \n",
    "        )\n",
    "if scheme_2:\n",
    "    #1 Asc glcm\n",
    "    extract_feature(\n",
    "        add_bands=False, \n",
    "        input_desc_sar_image_path=\"\", \n",
    "        input_image_path=input_desc_single_sar_image_path,\n",
    "        glcm_raster_path=\"\",  \n",
    "        thermal_image_path=\"\", \n",
    "        dnbr_image_path=\"\", \n",
    "        final_columns_names=[\"RBD_VV\", \"RBD_VH\", \"RBR_VV\", \"RBR_VH\",\"ΔRVI\"], \n",
    "        output_image_path=f\"MachineLearning/output/feature_image/{prefix}_sar_single_desc.tif\", \n",
    "        )\n",
    "    \n",
    "\n",
    "if scheme_3:\n",
    "    #1 Asc avg\n",
    "    extract_feature(\n",
    "        add_bands=False, \n",
    "        input_desc_sar_image_path=input_desc_single_sar_image_path, \n",
    "        input_image_path=input_asc_single_sar_image_path,\n",
    "        glcm_raster_path=\"\",  \n",
    "        thermal_image_path=\"\", \n",
    "        dnbr_image_path=\"\", \n",
    "        final_columns_names=[\"RBD_VV\", \"RBD_VH\", \"RBR_VV\", \"RBR_VH\",\"ΔRVI\"], \n",
    "        output_image_path=f\"MachineLearning/output/feature_image/{prefix}_sar_single_asc_desc.tif\", \n",
    "        )\n",
    "    \n",
    "if scheme_4:\n",
    "    #1 Asc avg + glcm\n",
    "    extract_feature(\n",
    "        add_bands=False, \n",
    "        input_desc_sar_image_path=input_desc_single_sar_image_path, \n",
    "        input_image_path=input_asc_single_sar_image_path,\n",
    "        glcm_raster_path=single_glcm_raster_path,  \n",
    "        thermal_image_path=\"\", \n",
    "        dnbr_image_path=\"\", \n",
    "        final_columns_names=[\"RBD_VV\", \"RBD_VH\", \"RBR_VV\", \"RBR_VH\",\"ΔRVI\",'p1','p2','p3'], \n",
    "        output_image_path=f\"MachineLearning/output/feature_image/{prefix}_sar_single_asc_desc_glcm.tif\", \n",
    "        )\n",
    "    \n",
    "\n",
    "if scheme_5:\n",
    "    #1 Asc\n",
    "    extract_feature(\n",
    "        add_bands=False, \n",
    "        input_desc_sar_image_path=\"\", \n",
    "        input_image_path=input_asc_sar_image_path,\n",
    "        glcm_raster_path=\"\",  \n",
    "        thermal_image_path=\"\", \n",
    "        dnbr_image_path=\"\", \n",
    "        final_columns_names=[\"RBD_VV\", \"RBD_VH\", \"RBR_VV\", \"RBR_VH\",\"ΔRVI\"], \n",
    "        output_image_path=f\"MachineLearning/output/feature_image/{prefix}_sar_avg_asc.tif\", \n",
    "        )\n",
    "\n",
    "if scheme_6:\n",
    "    #1 Asc glcm\n",
    "    extract_feature(\n",
    "        add_bands=False, \n",
    "        input_desc_sar_image_path=\"\", \n",
    "        input_image_path=input_desc_sar_image_path,\n",
    "        glcm_raster_path=\"\",  \n",
    "        thermal_image_path=\"\", \n",
    "        dnbr_image_path=\"\", \n",
    "        final_columns_names=[\"RBD_VV\", \"RBD_VH\", \"RBR_VV\", \"RBR_VH\",\"ΔRVI\"], \n",
    "        output_image_path=f\"MachineLearning/output/feature_image/{prefix}_sar_avg_desc.tif\", \n",
    "        )\n",
    "    \n",
    "\n",
    "if scheme_7:\n",
    "    #1 Asc avg\n",
    "    extract_feature(\n",
    "        add_bands=False, \n",
    "        input_desc_sar_image_path=input_desc_sar_image_path, \n",
    "        input_image_path=input_asc_sar_image_path,\n",
    "        glcm_raster_path=\"\",  \n",
    "        thermal_image_path=\"\", \n",
    "        dnbr_image_path=\"\", \n",
    "        final_columns_names=[\"RBD_VV\", \"RBD_VH\", \"RBR_VV\", \"RBR_VH\",\"ΔRVI\"], \n",
    "        output_image_path=f\"MachineLearning/output/feature_image/{prefix}_sar_avg_asc_desc.tif\", \n",
    "        )\n",
    "    \n",
    "if scheme_8:\n",
    "    #1 Asc avg + glcm\n",
    "    extract_feature(\n",
    "        add_bands=False, \n",
    "        input_desc_sar_image_path=input_desc_sar_image_path, \n",
    "        input_image_path=input_asc_sar_image_path,\n",
    "        glcm_raster_path=glcm_raster_path,  \n",
    "        thermal_image_path=\"\", \n",
    "        dnbr_image_path=\"\", \n",
    "        final_columns_names=[\"RBD_VV\", \"RBD_VH\", \"RBR_VV\", \"RBR_VH\",\"ΔRVI\",'p1','p2','p3'], \n",
    "        output_image_path=f\"MachineLearning/output/feature_image/{prefix}_sar_avg_asc_desc_glcm.tif\", \n",
    "        )"
   ]
  }
 ],
 "metadata": {
  "kernelspec": {
   "display_name": "fire_env",
   "language": "python",
   "name": "python3"
  },
  "language_info": {
   "codemirror_mode": {
    "name": "ipython",
    "version": 3
   },
   "file_extension": ".py",
   "mimetype": "text/x-python",
   "name": "python",
   "nbconvert_exporter": "python",
   "pygments_lexer": "ipython3",
   "version": "3.11.13"
  }
 },
 "nbformat": 4,
 "nbformat_minor": 2
}
