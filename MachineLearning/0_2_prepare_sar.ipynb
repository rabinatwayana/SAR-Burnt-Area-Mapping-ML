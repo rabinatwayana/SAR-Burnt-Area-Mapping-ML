{
 "cells": [
  {
   "cell_type": "code",
   "execution_count": 1,
   "metadata": {},
   "outputs": [
    {
     "name": "stdout",
     "output_type": "stream",
     "text": [
      "/Users/rabinatwayana/Rabina/CDE II/Wildfire Project/SAR-Burnt-Area-Mapping\n"
     ]
    }
   ],
   "source": [
    "import os\n",
    "from pathlib import Path\n",
    "dir_path = Path(r\"/Users/rabinatwayana/Rabina/CDE II/Wildfire Project/SAR-Burnt-Area-Mapping/\")\n",
    "if dir_path.exists():\n",
    "    os.chdir(dir_path)\n",
    "else:\n",
    "    print(\"Directory does not exist! Please check the path.\")\n",
    "!pwd"
   ]
  },
  {
   "cell_type": "code",
   "execution_count": 2,
   "metadata": {},
   "outputs": [],
   "source": [
    "import rasterio\n",
    "from rasterio.windows import from_bounds\n",
    "import geopandas as gpd\n",
    "from shapely.geometry import box\n",
    "from utils import clip_image, sar_image_average, merge_asc_desc_sar, get_bbox, create_fish_net,sar_single_date_image\n",
    "import config\n",
    "\n",
    "# TILE_SIZE=config.TILE_SIZE\n",
    "PALISADE_CLIP_EXTENT=config.PALISADE_CLIP_EXTENT"
   ]
  },
  {
   "cell_type": "markdown",
   "metadata": {},
   "source": [
    "## Single date image"
   ]
  },
  {
   "cell_type": "code",
   "execution_count": 3,
   "metadata": {},
   "outputs": [
    {
     "name": "stdout",
     "output_type": "stream",
     "text": [
      "Average image saved into  MachineLearning/input/sar/01_avg/S1A_asc_32611_single.tif\n",
      "Average image saved into  MachineLearning/input/sar/01_avg/S1A_desc_32611_single.tif\n"
     ]
    }
   ],
   "source": [
    "input_asc_sar_image_path  = \"../Asc_S1_Palisades/project/S1A_asc_TC_32611.tif\"\n",
    "output_asc_sar_image_path=\"MachineLearning/input/sar/01_avg/S1A_asc_32611_single.tif\"\n",
    "\n",
    "input_desc_sar_image_path  = \"../Desc_S1_Palisades/9_project/S1A_desc_32611.tif\"\n",
    "output_desc_sar_image_path=\"MachineLearning/input/sar/01_avg/S1A_desc_32611_single.tif\"\n",
    "\n",
    "sar_single_date_image(input_asc_sar_image_path,output_asc_sar_image_path)\n",
    "sar_single_date_image(input_desc_sar_image_path,output_desc_sar_image_path)"
   ]
  },
  {
   "cell_type": "code",
   "execution_count": 4,
   "metadata": {},
   "outputs": [
    {
     "name": "stdout",
     "output_type": "stream",
     "text": [
      "clip image saved into  MachineLearning/input/sar/02_clip/S1A_asc_32611_single_clip.tif\n",
      "clip image saved into  MachineLearning/input/sar/02_clip/S1A_desc_32611_single_clip.tif\n"
     ]
    }
   ],
   "source": [
    "asc_clip_output_path=\"MachineLearning/input/sar/02_clip/S1A_asc_32611_single_clip.tif\"\n",
    "desc_clip_output_path=\"MachineLearning/input/sar/02_clip/S1A_desc_32611_single_clip.tif\"\n",
    "\n",
    "clip_image(output_asc_sar_image_path,asc_clip_output_path,PALISADE_CLIP_EXTENT)\n",
    "clip_image(output_desc_sar_image_path,desc_clip_output_path,PALISADE_CLIP_EXTENT)"
   ]
  },
  {
   "cell_type": "markdown",
   "metadata": {},
   "source": [
    "## Multi date image"
   ]
  },
  {
   "cell_type": "code",
   "execution_count": null,
   "metadata": {},
   "outputs": [],
   "source": [
    "input_asc_sar_image_path  = \"../Asc_S1_Palisades/project/S1A_asc_TC_32611.tif\"\n",
    "output_asc_sar_image_path=\"MachineLearning/input/sar/01_avg/S1A_asc_32611_avg.tif\"\n",
    "\n",
    "input_desc_sar_image_path  = \"../Desc_S1_Palisades/9_project/S1A_desc_32611.tif\"\n",
    "output_desc_sar_image_path=\"MachineLearning/input/sar/01_avg/S1A_desc_32611_avg.tif\"\n",
    "\n",
    "sar_image_average(input_asc_sar_image_path,output_asc_sar_image_path)\n",
    "sar_image_average(input_desc_sar_image_path,output_desc_sar_image_path)"
   ]
  },
  {
   "cell_type": "markdown",
   "metadata": {},
   "source": []
  },
  {
   "cell_type": "code",
   "execution_count": null,
   "metadata": {},
   "outputs": [],
   "source": [
    "# minx, miny, maxx, maxy=337276.20835215, 3762751.49928493, 370706.59898943, 3781200.70468214\n",
    "# clip_extent = (minx, miny, maxx, maxy)\n",
    "asc_clip_output_path=\"MachineLearning/input/sar/02_clip/S1A_asc_32611_avg_clip.tif\"\n",
    "desc_clip_output_path=\"MachineLearning/input/sar/02_clip/S1A_desc_32611_avg_clip.tif\"\n",
    "clip_image(output_asc_sar_image_path,asc_clip_output_path,PALISADE_CLIP_EXTENT)\n",
    "clip_image(output_desc_sar_image_path,desc_clip_output_path,PALISADE_CLIP_EXTENT)\n"
   ]
  },
  {
   "cell_type": "code",
   "execution_count": null,
   "metadata": {},
   "outputs": [],
   "source": [
    "# does not work\n",
    "# asc_desc_output_path=\"MachineLearning/input/sar/02_clip/S1A_asc_desc_avg_clip.tif\"\n",
    "# merge_asc_desc_sar(asc_clip_output_path,desc_clip_output_path,asc_desc_output_path)"
   ]
  }
 ],
 "metadata": {
  "kernelspec": {
   "display_name": "fire_env",
   "language": "python",
   "name": "python3"
  },
  "language_info": {
   "codemirror_mode": {
    "name": "ipython",
    "version": 3
   },
   "file_extension": ".py",
   "mimetype": "text/x-python",
   "name": "python",
   "nbconvert_exporter": "python",
   "pygments_lexer": "ipython3",
   "version": "3.11.11"
  }
 },
 "nbformat": 4,
 "nbformat_minor": 2
}
